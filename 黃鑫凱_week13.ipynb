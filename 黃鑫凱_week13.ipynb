{
  "nbformat": 4,
  "nbformat_minor": 0,
  "metadata": {
    "colab": {
      "name": "黃鑫凱-week13.ipynb",
      "provenance": [],
      "authorship_tag": "ABX9TyNyhvxN9+rMT+nNV0/jyYGb",
      "include_colab_link": true
    },
    "kernelspec": {
      "name": "python3",
      "display_name": "Python 3"
    }
  },
  "cells": [
    {
      "cell_type": "markdown",
      "metadata": {
        "id": "view-in-github",
        "colab_type": "text"
      },
      "source": [
        "<a href=\"https://colab.research.google.com/github/Soloshow730/Computational-Thinking/blob/master/%E9%BB%83%E9%91%AB%E5%87%B1_week13.ipynb\" target=\"_parent\"><img src=\"https://colab.research.google.com/assets/colab-badge.svg\" alt=\"Open In Colab\"/></a>"
      ]
    },
    {
      "cell_type": "code",
      "metadata": {
        "colab": {
          "base_uri": "https://localhost:8080/"
        },
        "id": "FVfhlBxECUEK",
        "outputId": "bbb90698-56a4-4ad9-eabc-32744b612a07"
      },
      "source": [
        "a = range(10)\r\n",
        "print(a)"
      ],
      "execution_count": 1,
      "outputs": [
        {
          "output_type": "stream",
          "text": [
            "range(0, 10)\n"
          ],
          "name": "stdout"
        }
      ]
    },
    {
      "cell_type": "code",
      "metadata": {
        "colab": {
          "base_uri": "https://localhost:8080/"
        },
        "id": "z41JtznsCxho",
        "outputId": "b070d7a0-e6b2-4df7-b837-a5f2a65d00d6"
      },
      "source": [
        "print(a[0], a[1], a[2], a[3], a[4], a[5], a[6], a[7], a[8], a[9])"
      ],
      "execution_count": 2,
      "outputs": [
        {
          "output_type": "stream",
          "text": [
            "0 1 2 3 4 5 6 7 8 9\n"
          ],
          "name": "stdout"
        }
      ]
    },
    {
      "cell_type": "code",
      "metadata": {
        "colab": {
          "base_uri": "https://localhost:8080/"
        },
        "id": "t45znjKuDIlN",
        "outputId": "dca936f6-47b8-4146-b8d9-2783831d01a0"
      },
      "source": [
        "b = range(0, 10, 2)\r\n",
        "print(b)"
      ],
      "execution_count": 3,
      "outputs": [
        {
          "output_type": "stream",
          "text": [
            "range(0, 10, 2)\n"
          ],
          "name": "stdout"
        }
      ]
    },
    {
      "cell_type": "code",
      "metadata": {
        "colab": {
          "base_uri": "https://localhost:8080/"
        },
        "id": "ppnaJqlrDcSG",
        "outputId": "ac01af99-b485-457e-dde1-b6aae01d73df"
      },
      "source": [
        "print(b[0], b[1] ,b[2], b[3], b[4])"
      ],
      "execution_count": 4,
      "outputs": [
        {
          "output_type": "stream",
          "text": [
            "0 2 4 6 8\n"
          ],
          "name": "stdout"
        }
      ]
    },
    {
      "cell_type": "code",
      "metadata": {
        "colab": {
          "base_uri": "https://localhost:8080/"
        },
        "id": "0PqFyvJIDmKX",
        "outputId": "f7064326-fb42-440c-9aaf-91b8ba580c35"
      },
      "source": [
        "c = range(5, 11, 2)\r\n",
        "print(c)"
      ],
      "execution_count": 5,
      "outputs": [
        {
          "output_type": "stream",
          "text": [
            "range(5, 11, 2)\n"
          ],
          "name": "stdout"
        }
      ]
    },
    {
      "cell_type": "code",
      "metadata": {
        "colab": {
          "base_uri": "https://localhost:8080/"
        },
        "id": "cWaygX8qDx3Y",
        "outputId": "13e19f09-7709-475e-89f5-63bf11eeba04"
      },
      "source": [
        "print(c[0], c[1], c[2])"
      ],
      "execution_count": 6,
      "outputs": [
        {
          "output_type": "stream",
          "text": [
            "5 7 9\n"
          ],
          "name": "stdout"
        }
      ]
    },
    {
      "cell_type": "code",
      "metadata": {
        "colab": {
          "base_uri": "https://localhost:8080/"
        },
        "id": "hCTdOdOyEewP",
        "outputId": "a7817065-fe7b-4610-d731-a8a838b53cf8"
      },
      "source": [
        "d = range(0, -10, -1)\r\n",
        "print(d)"
      ],
      "execution_count": 8,
      "outputs": [
        {
          "output_type": "stream",
          "text": [
            "range(0, -10, -1)\n"
          ],
          "name": "stdout"
        }
      ]
    },
    {
      "cell_type": "code",
      "metadata": {
        "colab": {
          "base_uri": "https://localhost:8080/"
        },
        "id": "4bZiW8tmEqKt",
        "outputId": "45f219f7-cc36-4887-d08b-0d2efcef5fcd"
      },
      "source": [
        "print(d[0], d[1], d[2], d[3], d[4], d[5], d[6], d[7], d[8], d[9])"
      ],
      "execution_count": 9,
      "outputs": [
        {
          "output_type": "stream",
          "text": [
            "0 -1 -2 -3 -4 -5 -6 -7 -8 -9\n"
          ],
          "name": "stdout"
        }
      ]
    },
    {
      "cell_type": "code",
      "metadata": {
        "colab": {
          "base_uri": "https://localhost:8080/"
        },
        "id": "gc2EnPsRFdi_",
        "outputId": "48a4126b-1099-403b-da4e-ff62ad4e7a0e"
      },
      "source": [
        "sum = 0\r\n",
        "for i in range(2, 12, 2):\r\n",
        "  sum = sum + i\r\n",
        "print(\"Totla is\", sum)"
      ],
      "execution_count": 10,
      "outputs": [
        {
          "output_type": "stream",
          "text": [
            "Totla is 30\n"
          ],
          "name": "stdout"
        }
      ]
    },
    {
      "cell_type": "code",
      "metadata": {
        "colab": {
          "base_uri": "https://localhost:8080/"
        },
        "id": "FFFK1_fmF4hx",
        "outputId": "421ceacd-130d-4939-9ba1-d710906797a0"
      },
      "source": [
        "sum = 0\r\n",
        "for i in range(3, 15, 3):\r\n",
        "  sum = sum + i\r\n",
        "print(\"Totla is\", sum)"
      ],
      "execution_count": 11,
      "outputs": [
        {
          "output_type": "stream",
          "text": [
            "Totla is 30\n"
          ],
          "name": "stdout"
        }
      ]
    },
    {
      "cell_type": "code",
      "metadata": {
        "colab": {
          "base_uri": "https://localhost:8080/"
        },
        "id": "5JdpdW2dGjyU",
        "outputId": "2257f4d9-e43f-4e47-df31-da633e02ac29"
      },
      "source": [
        "start = int(input('請輸入加總開始值?'))\r\n",
        "end = int(input('請輸入加總終止值?'))\r\n",
        "step = int(input('請輸入遞增減值?'))\r\n",
        "sum = 0\r\n",
        "for i in range(start, end, step):\r\n",
        "  sum = sum + i\r\n",
        "  print('i為', i, '時,累加結果為', sum)"
      ],
      "execution_count": 17,
      "outputs": [
        {
          "output_type": "stream",
          "text": [
            "請輸入加總開始值?2\n",
            "請輸入加總終止值?10\n",
            "請輸入遞增減值?2\n",
            "i為 2 時,累加結果為 2\n",
            "i為 4 時,累加結果為 6\n",
            "i為 6 時,累加結果為 12\n",
            "i為 8 時,累加結果為 20\n"
          ],
          "name": "stdout"
        }
      ]
    }
  ]
}