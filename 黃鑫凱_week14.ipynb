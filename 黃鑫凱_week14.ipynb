{
  "nbformat": 4,
  "nbformat_minor": 0,
  "metadata": {
    "colab": {
      "name": "黃鑫凱-week14.ipynb",
      "provenance": [],
      "authorship_tag": "ABX9TyNUG58Gyo2ilLQlP0ZFtFZF",
      "include_colab_link": true
    },
    "kernelspec": {
      "name": "python3",
      "display_name": "Python 3"
    }
  },
  "cells": [
    {
      "cell_type": "markdown",
      "metadata": {
        "id": "view-in-github",
        "colab_type": "text"
      },
      "source": [
        "<a href=\"https://colab.research.google.com/github/Soloshow730/Computational-Thinking/blob/master/%E9%BB%83%E9%91%AB%E5%87%B1_week14.ipynb\" target=\"_parent\"><img src=\"https://colab.research.google.com/assets/colab-badge.svg\" alt=\"Open In Colab\"/></a>"
      ]
    },
    {
      "cell_type": "code",
      "metadata": {
        "colab": {
          "base_uri": "https://localhost:8080/"
        },
        "id": "H0xVtmwf91oE",
        "outputId": "9fa608d6-4ad4-4724-a44b-e7eb1fca0bec"
      },
      "source": [
        " star = [\"*\", \"**\", \"***\", \"****\", \"*****\"]\r\n",
        " for i in  star:\r\n",
        "    print(i)"
      ],
      "execution_count": 1,
      "outputs": [
        {
          "output_type": "stream",
          "text": [
            "*\n",
            "**\n",
            "***\n",
            "****\n",
            "*****\n"
          ],
          "name": "stdout"
        }
      ]
    },
    {
      "cell_type": "code",
      "metadata": {
        "colab": {
          "base_uri": "https://localhost:8080/"
        },
        "id": "GE048xaR-A4M",
        "outputId": "7649b8ef-32e2-46b5-b3d3-4f23586f5935"
      },
      "source": [
        "for i in range(0, 1, 1):\r\n",
        "  print(\"*\")\r\n",
        "  print(\"**\")\r\n",
        "  print(\"***\")\r\n",
        "  print(\"****\")\r\n",
        "  print(\"*****\")"
      ],
      "execution_count": 2,
      "outputs": [
        {
          "output_type": "stream",
          "text": [
            "*\n",
            "**\n",
            "***\n",
            "****\n",
            "*****\n"
          ],
          "name": "stdout"
        }
      ]
    },
    {
      "cell_type": "code",
      "metadata": {
        "colab": {
          "base_uri": "https://localhost:8080/"
        },
        "id": "M0amz1O6-ira",
        "outputId": "fa72f4c1-c30f-45a3-a36e-a9db84d29e61"
      },
      "source": [
        " star = [\"    *\", \"   ***\", \"  *****\", \" *******\", \"*********\"]\r\n",
        " for i in  star:\r\n",
        "    print(i)"
      ],
      "execution_count": 4,
      "outputs": [
        {
          "output_type": "stream",
          "text": [
            "    *\n",
            "   ***\n",
            "  *****\n",
            " *******\n",
            "*********\n"
          ],
          "name": "stdout"
        }
      ]
    },
    {
      "cell_type": "code",
      "metadata": {
        "colab": {
          "base_uri": "https://localhost:8080/"
        },
        "id": "6punidhd-17x",
        "outputId": "dbaba42e-cf3b-452f-edbc-32aa792a0273"
      },
      "source": [
        "for i in range(0, 1, 1):\r\n",
        "  print(\"    *\")\r\n",
        "  print(\"   ***\")\r\n",
        "  print(\"  *****\")\r\n",
        "  print(\" *******\")\r\n",
        "  print(\"*********\")"
      ],
      "execution_count": 5,
      "outputs": [
        {
          "output_type": "stream",
          "text": [
            "    *\n",
            "   ***\n",
            "  *****\n",
            " *******\n",
            "*********\n"
          ],
          "name": "stdout"
        }
      ]
    }
  ]
}