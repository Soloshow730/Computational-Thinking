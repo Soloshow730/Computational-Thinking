{
  "nbformat": 4,
  "nbformat_minor": 0,
  "metadata": {
    "colab": {
      "name": "黃鑫凱-week11.ipynb",
      "provenance": [],
      "authorship_tag": "ABX9TyOrj7x058uRUczExDoFV2Sv",
      "include_colab_link": true
    },
    "kernelspec": {
      "name": "python3",
      "display_name": "Python 3"
    }
  },
  "cells": [
    {
      "cell_type": "markdown",
      "metadata": {
        "id": "view-in-github",
        "colab_type": "text"
      },
      "source": [
        "<a href=\"https://colab.research.google.com/github/Soloshow730/Computational-Thinking/blob/master/%E9%BB%83%E9%91%AB%E5%87%B1_week11.ipynb\" target=\"_parent\"><img src=\"https://colab.research.google.com/assets/colab-badge.svg\" alt=\"Open In Colab\"/></a>"
      ]
    },
    {
      "cell_type": "markdown",
      "metadata": {
        "id": "fXb1J32hoP5f"
      },
      "source": [
        "習題解答:分組報告\n"
      ]
    },
    {
      "cell_type": "code",
      "metadata": {
        "colab": {
          "base_uri": "https://localhost:8080/"
        },
        "id": "uOnABaF5oVZG",
        "outputId": "1cea0b7c-e108-4d21-8045-537e1a2c88f1"
      },
      "source": [
        "# 方法(一):商數\n",
        "## Input\n",
        "number = input(\"Enter your sest number?\")\n",
        "number = int(number)\n",
        "## Process\n",
        "group = (number - 1) // 5\n",
        "## Output\n",
        "print(\"Groups is\", group)"
      ],
      "execution_count": 10,
      "outputs": [
        {
          "output_type": "stream",
          "text": [
            "Enter your sest number?98\n",
            "Groups is 19\n"
          ],
          "name": "stdout"
        }
      ]
    }
  ]
}