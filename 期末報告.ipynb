{
  "nbformat": 4,
  "nbformat_minor": 0,
  "metadata": {
    "colab": {
      "name": "期末報告.ipynb",
      "provenance": [],
      "authorship_tag": "ABX9TyNvC09mIuxlA89kJ942iSuV",
      "include_colab_link": true
    },
    "kernelspec": {
      "name": "python3",
      "display_name": "Python 3"
    }
  },
  "cells": [
    {
      "cell_type": "markdown",
      "metadata": {
        "id": "view-in-github",
        "colab_type": "text"
      },
      "source": [
        "<a href=\"https://colab.research.google.com/github/Soloshow730/Computational-Thinking/blob/master/%E6%9C%9F%E6%9C%AB%E5%A0%B1%E5%91%8A.ipynb\" target=\"_parent\"><img src=\"https://colab.research.google.com/assets/colab-badge.svg\" alt=\"Open In Colab\"/></a>"
      ]
    },
    {
      "cell_type": "markdown",
      "metadata": {
        "id": "eSx9_qHK57Hh"
      },
      "source": [
        "#組員:廖挺均，黃鑫凱，郭星暘，陳霆維，張宗棨\r\n",
        "##分工內容:"
      ]
    },
    {
      "cell_type": "markdown",
      "metadata": {
        "id": "-7JveM2B6ciH"
      },
      "source": [
        "###角本:剛入大學的新鮮人，對於一切都還不熟悉，所以製造出的對話機器人。裡面有四種功能，分別是\r\n",
        "###如果興情不好可以選擇心情，它會讓你紓解陰霾。\r\n",
        "###若喜歡動漫，則可以選擇動漫，來跟機器人聊自己喜歡的動漫類型\r\n",
        "###想早日在大學生活中盡早交到朋友或想抱怨成績不順利，則可以選擇學業社交。\r\n",
        "###喜歡占卜的人也可以選擇占卜，裡面有四種占卜可以選擇，挑選一個來測近日運勢吧"
      ]
    },
    {
      "cell_type": "code",
      "metadata": {
        "colab": {
          "base_uri": "https://localhost:8080/"
        },
        "id": "qq84l0gb2-4i",
        "outputId": "52813e43-7284-4be1-c1b9-d71e7e82a610"
      },
      "source": [
        "print('嗨. 我是鴟鴞 是一個聊天機器人')\r\n",
        "print('我喜歡聊各種話題')\r\n",
        "name = input('可以告訴我，你的名字嗎: ')\r\n",
        "print('你好', name, ', 很高興認識你')\r\n",
        "# get year information\r\n",
        "year = input('我存在太久了，已經忘記現在是幾年了，你可以跟我說現在是西元幾年嗎?: ')\r\n",
        "print('我想我知道了 ')\r\n",
        "# ask user to guess age\r\n",
        "myage = input('你可以猜到我幾歲嗎? 猜猜看:')\r\n",
        "myage=int(myage)+30;\r\n",
        "print('其實我今年已經 ',myage,'歲')\r\n",
        "# do math to calculate when chatbot will be 100\r\n",
        "nyears = 10000 - myage\r\n",
        "print('再過', nyears, '年我就滿10000歲了')\r\n",
        "print('到時候就是西元', int(year) + nyears,'年')"
      ],
      "execution_count": null,
      "outputs": [
        {
          "output_type": "stream",
          "text": [
            "嗨. 我是鴟鴞 是一個聊天機器人\n",
            "我喜歡聊各種話題\n",
            "可以告訴我，你的名字嗎: 星星\n",
            "你好 星星 , 很高興認識你\n",
            "我存在太久了，已經忘記現在是幾年了，你可以跟我說現在是西元幾年嗎?: 2021\n",
            "我想我知道了 \n",
            "你可以猜到我幾歲嗎? 猜猜看:200\n",
            "其實我今年已經  230 歲\n",
            "再過 9770 年我就滿10000歲了\n",
            "到時候就是西元 11791 年\n"
          ],
          "name": "stdout"
        }
      ]
    },
    {
      "cell_type": "code",
      "metadata": {
        "id": "NueUK9sN6SvU"
      },
      "source": [
        ""
      ],
      "execution_count": null,
      "outputs": []
    }
  ]
}