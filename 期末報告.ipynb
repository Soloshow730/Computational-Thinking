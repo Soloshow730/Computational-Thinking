{
  "nbformat": 4,
  "nbformat_minor": 0,
  "metadata": {
    "colab": {
      "name": "期末報告.ipynb",
      "provenance": [],
      "authorship_tag": "ABX9TyM/OH8Owdp/eSv8vmTsrNq0",
      "include_colab_link": true
    },
    "kernelspec": {
      "name": "python3",
      "display_name": "Python 3"
    }
  },
  "cells": [
    {
      "cell_type": "markdown",
      "metadata": {
        "id": "view-in-github",
        "colab_type": "text"
      },
      "source": [
        "<a href=\"https://colab.research.google.com/github/Soloshow730/Computational-Thinking/blob/master/%E6%9C%9F%E6%9C%AB%E5%A0%B1%E5%91%8A.ipynb\" target=\"_parent\"><img src=\"https://colab.research.google.com/assets/colab-badge.svg\" alt=\"Open In Colab\"/></a>"
      ]
    },
    {
      "cell_type": "code",
      "metadata": {
        "colab": {
          "base_uri": "https://localhost:8080/"
        },
        "id": "qq84l0gb2-4i",
        "outputId": "52813e43-7284-4be1-c1b9-d71e7e82a610"
      },
      "source": [
        "print('嗨. 我是鴟鴞 是一個聊天機器人')\r\n",
        "print('我喜歡聊各種話題')\r\n",
        "name = input('可以告訴我，你的名字嗎: ')\r\n",
        "print('你好', name, ', 很高興認識你')\r\n",
        "# get year information\r\n",
        "year = input('我存在太久了，已經忘記現在是幾年了，你可以跟我說現在是西元幾年嗎?: ')\r\n",
        "print('我想我知道了 ')\r\n",
        "# ask user to guess age\r\n",
        "myage = input('你可以猜到我幾歲嗎? 猜猜看:')\r\n",
        "myage=int(myage)+30;\r\n",
        "print('其實我今年已經 ',myage,'歲')\r\n",
        "# do math to calculate when chatbot will be 100\r\n",
        "nyears = 10000 - myage\r\n",
        "print('再過', nyears, '年我就滿10000歲了')\r\n",
        "print('到時候就是西元', int(year) + nyears,'年')"
      ],
      "execution_count": 1,
      "outputs": [
        {
          "output_type": "stream",
          "text": [
            "嗨. 我是鴟鴞 是一個聊天機器人\n",
            "我喜歡聊各種話題\n",
            "可以告訴我，你的名字嗎: 星星\n",
            "你好 星星 , 很高興認識你\n",
            "我存在太久了，已經忘記現在是幾年了，你可以跟我說現在是西元幾年嗎?: 2021\n",
            "我想我知道了 \n",
            "你可以猜到我幾歲嗎? 猜猜看:200\n",
            "其實我今年已經  230 歲\n",
            "再過 9770 年我就滿10000歲了\n",
            "到時候就是西元 11791 年\n"
          ],
          "name": "stdout"
        }
      ]
    }
  ]
}